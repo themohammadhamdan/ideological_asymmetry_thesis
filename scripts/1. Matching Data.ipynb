{
 "cells": [
  {
   "cell_type": "markdown",
   "id": "b59132b8-3772-4664-9ca4-c5a76ef9b815",
   "metadata": {},
   "source": [
    "In this notebook, we merge the data from two different datasets: `data_whole.RData` which includes the political data, and `participants.csv` which includes the demographic data. We match participants based on their AOMIC-ID and keep only the data of participants who are present in both data sets, and filter out all variables except identity-based social ideology, issue-based social ideology, age, gender, education, background socio-economic status.  \n",
    "\n",
    "In the following cell, we load in dplyr, and select only the variables of interst in `data_whole.RData`, and save this selective dataset as `poli_data.csv`."
   ]
  },
  {
   "cell_type": "code",
   "execution_count": 52,
   "id": "4ec2065e-f442-4ec1-b2a4-80030e7f6756",
   "metadata": {},
   "outputs": [],
   "source": [
    "# load libraries\n",
    "#install.packages(\"dplyr\")\n",
    "library(dplyr)\n",
    "\n",
    "# set working dir\n",
    "setwd(\"/home/c13572687/Documents/scripts_and_data/csv_data/\")"
   ]
  },
  {
   "cell_type": "markdown",
   "id": "909d9120-7d7b-45f3-b58d-35e294f3101a",
   "metadata": {},
   "source": [
    "Here, we match up our political data (`poli_data.csv`) with our demographic data (`participants.tsv`)."
   ]
  },
  {
   "cell_type": "code",
   "execution_count": 53,
   "id": "f59bda74-a4b6-436d-a385-7d77bba618cf",
   "metadata": {},
   "outputs": [],
   "source": [
    "poli_data = read.csv(\"poli_data.csv\", sep = ',')\n",
    "data_whole = read.csv(\"participants.tsv\", sep = '\\t')\n",
    "\n",
    "# Creating a not in operator:\n",
    "`%notin%` <- Negate(`%in%`)\n",
    "\n",
    "# removing participants from poli data if they are not in AOMIC data\n",
    "missing_participants = c()\n",
    "for(participant_nr in (1:length(poli_data$participant_id))){\n",
    "  if (poli_data$participant_id[participant_nr] %notin% data_whole$participant_id){\n",
    "    missing_participants = append(missing_participants, poli_data$participant_id[participant_nr])}}\n",
    "\n",
    "poli_data = filter(poli_data, poli_data$participant_id %notin% missing_participants)\n",
    "\n",
    "# removing participants from AOMIC data if they are not in poli data\n",
    "missing_participants = c()\n",
    "for(participant_nr in (1:length(data_whole$participant_id))){\n",
    "  if (data_whole$participant_id[participant_nr] %notin% poli_data$participant_id){\n",
    "    missing_participants = append(missing_participants, data_whole$participant_id[participant_nr])}}\n",
    "\n",
    "data_whole = filter(data_whole, data_whole$participant_id %notin% missing_participants)\n",
    "\n",
    "# making sure all participants match up, element-wise\n",
    "table(data_whole$participant_id == poli_data$participant_id)\n",
    "\n",
    "poli_data <- poli_data %>% select(social.ideology, social.ideology.scale,\n",
    "                                  social.identity, social.identity.scale,\n",
    "                                  political.interest, political.interest.scale)\n",
    "\n",
    "data_whole <- data_whole %>% select(participant_id, age, sex, education_level, background_SES)\n",
    "all_data = cbind(data_whole, poli_data)\n",
    "\n",
    "write.csv(all_data, \"all_data.csv\")"
   ]
  }
 ],
 "metadata": {
  "kernelspec": {
   "display_name": "R",
   "language": "R",
   "name": "ir"
  },
  "language_info": {
   "codemirror_mode": "r",
   "file_extension": ".r",
   "mimetype": "text/x-r-source",
   "name": "R",
   "pygments_lexer": "r",
   "version": "3.5.1"
  }
 },
 "nbformat": 4,
 "nbformat_minor": 5
}
