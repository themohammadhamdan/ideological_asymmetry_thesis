{
 "cells": [
  {
   "attachments": {},
   "cell_type": "markdown",
   "id": "78a0e11a-6c19-4242-9f3e-f5012a9a1801",
   "metadata": {},
   "source": [
    "In the following code we test for violation of assumptions before statistical analysis."
   ]
  },
  {
   "cell_type": "code",
   "execution_count": 5,
   "id": "09a2f9e0-04c9-4649-b66b-fba6df608fbb",
   "metadata": {},
   "outputs": [],
   "source": [
    "# importing packages\n",
    "import numpy as np\n",
    "import pandas as pd\n",
    "import matplotlib.pyplot as plt\n",
    "import os\n",
    "import json\n",
    "import nibabel as nib\n",
    "from numpy.linalg import inv # inverse function for matrix multiplication\n",
    "from scipy.interpolate import interp1d # for resampling\n",
    "from nilearn.glm.first_level.hemodynamic_models import glover_hrf\n",
    "from scipy.stats import pearsonr\n",
    "import scipy\n",
    "\n",
    "# setting work and data directories --------------------------------------------\n",
    "csv_directory = os.path.dirname(\"/home/c13572687/Documents/scripts_and_data/csv_data/\") # this on the server\n",
    "fmri_directory = os.path.dirname(\"/home/c13572687/Documents/scripts_and_data/fmri_data/\") # this on the server\n",
    "\n",
    "# loading data\n",
    "exploratory_data = pd.read_csv(str(csv_directory + \"/exploratory_half.csv\"), sep = ',')\n",
    "confirmatory_data = pd.read_csv(str(csv_directory + \"/confirmatory_half.csv\"), sep = ',')\n",
    "\n",
    "# sanity check\n",
    "exploratory_data.shape[0] == confirmatory_data.shape[0] == 427\n",
    "\n",
    "# loading in segmentation data (will not be using but it's there)\n",
    "segmentation_data = pd.read_csv(str(csv_directory + \"/segmentation_seconds.csv\"), sep = ',')\n",
    "segmentation_data = segmentation_data.iloc[0:24,:] # removing weird random exta cells"
   ]
  },
  {
   "attachments": {},
   "cell_type": "markdown",
   "id": "c9bf595b-f98d-493b-973a-86adffe4721e",
   "metadata": {},
   "source": [
    "Our data is not supposed to be normal, as it was systematically sampled to represent the Dutch population. In this cell we prove this (and save the outcome of the statistical tests to `.csv` files which can then be used in the final report):"
   ]
  },
  {
   "cell_type": "code",
   "execution_count": 17,
   "id": "70df9295-8ec9-4db9-ba81-904b50c014fc",
   "metadata": {},
   "outputs": [],
   "source": [
    "# assumption checks (exploratory; behavioural) ----------------------------------------------\n",
    "\n",
    "import math\n",
    "from scipy.stats import shapiro \n",
    "\n",
    "# need to code edu level into numbers\n",
    "exploratory_data['education_level_numbers'] = np.where(exploratory_data['education_level'] == 'high', 3, np.where(exploratory_data['education_level'] == 'medium', 2, np.where(exploratory_data['education_level'] == 'low', 1, 0)))\n",
    "exploratory_data['sex_numbers'] = np.where(exploratory_data['sex'] == 'male', 0, 1) \n",
    "\n",
    "#perform Shapiro-Wilk test for normality and put values in table\n",
    "df = pd.DataFrame({\n",
    "    \"Variable\": ['Issue-based Social Ideology', 'Identity-based Social Ideology', 'Education level', 'Background SES', 'Sex'],\n",
    "    \"Shapiro-Wilk Statistic\": [np.round(shapiro(exploratory_data['social.ideology'])[0],3), np.round(shapiro(exploratory_data['social.identity'])[0],3), np.round(shapiro(exploratory_data['education_level_numbers'])[0],3), np.round(shapiro(exploratory_data['background_SES'])[0],3), np.round(shapiro(exploratory_data['sex_numbers'])[0],3)],\n",
    "    \"p-value\": [shapiro(exploratory_data['social.ideology'])[1], \n",
    "    shapiro(exploratory_data['social.identity'])[1], \n",
    "    shapiro(exploratory_data['education_level_numbers'])[1],\n",
    "    shapiro(exploratory_data['background_SES'])[1],\n",
    "    shapiro(exploratory_data['sex_numbers'])[1]]\n",
    "    \n",
    "})\n",
    "df.to_csv(os.path.join(csv_directory + r\"/exp_normality.csv\"))\n",
    "\n",
    "# assumption checks (confirmatory; behavioural) ----------------------------------------------\n",
    "# ==== https://www.datanovia.com/en/lessons/repeated-measures-anova-in-r/ =====\n",
    "\n",
    "# need to code edu level into numbers\n",
    "confirmatory_data['education_level_numbers'] = np.where(confirmatory_data['education_level'] == 'high', 3, np.where(confirmatory_data['education_level'] == 'medium', 2, np.where(confirmatory_data['education_level'] == 'low', 1, 0)))\n",
    "confirmatory_data['sex_numbers'] = np.where(confirmatory_data['sex'] == 'male', 0, 1) \n",
    "\n",
    "#perform Shapiro-Wilk test for normality and put values in table\n",
    "df = pd.DataFrame({\n",
    "    \"Variable\": ['Issue-based Social Ideology', 'Identity-based Social Ideology', 'Education level', 'Background SES', 'Gender'],\n",
    "    \"Shapiro-Wilk Statistic\": [np.round(shapiro(confirmatory_data['social.ideology'])[0],4), np.round(shapiro(confirmatory_data['social.identity'])[0],4), np.round(shapiro(confirmatory_data['education_level_numbers'])[0],4), np.round(shapiro(confirmatory_data['background_SES'])[0],4), np.round(shapiro(confirmatory_data['sex_numbers'])[0],3)],\n",
    "    \"p-value\": [shapiro(confirmatory_data['social.ideology'])[1], \n",
    "    shapiro(confirmatory_data['social.identity'])[1], \n",
    "    shapiro(confirmatory_data['education_level_numbers'])[1],\n",
    "    shapiro(confirmatory_data['background_SES'])[1],\n",
    "    shapiro(confirmatory_data['sex_numbers'])[1]]\n",
    "    \n",
    "})\n",
    "df.to_csv(os.path.join(csv_directory + r\"/conf_normality.csv\"))\n"
   ]
  }
 ],
 "metadata": {
  "kernelspec": {
   "display_name": "Python 3 (ipykernel)",
   "language": "python",
   "name": "python3"
  },
  "language_info": {
   "codemirror_mode": {
    "name": "ipython",
    "version": 3
   },
   "file_extension": ".py",
   "mimetype": "text/x-python",
   "name": "python",
   "nbconvert_exporter": "python",
   "pygments_lexer": "ipython3",
   "version": "3.7.13"
  }
 },
 "nbformat": 4,
 "nbformat_minor": 5
}
